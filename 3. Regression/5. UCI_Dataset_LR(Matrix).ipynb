{
  "cells": [
    {
      "cell_type": "markdown",
      "metadata": {
        "id": "3JuPV02I0g0A"
      },
      "source": [
        "# Importing Libraries"
      ]
    },
    {
      "cell_type": "code",
      "execution_count": 1,
      "metadata": {
        "id": "f1p8R507nbZS"
      },
      "outputs": [],
      "source": [
        "import pandas as pd\n",
        "import numpy as np\n",
        "import matplotlib.pyplot as plt"
      ]
    },
    {
      "cell_type": "markdown",
      "metadata": {
        "id": "3gmFC7UQ0mNQ"
      },
      "source": [
        "# Importing Dataset"
      ]
    },
    {
      "cell_type": "code",
      "execution_count": 2,
      "metadata": {
        "colab": {
          "base_uri": "https://localhost:8080/",
          "height": 423
        },
        "id": "YU28VDqTnbZT",
        "outputId": "43030964-4ca9-438e-d461-ea6e7a26efd7"
      },
      "outputs": [
        {
          "data": {
            "text/html": [
              "\n",
              "  <div id=\"df-fe68fd20-2366-46b8-9fa9-e360fd76a21b\">\n",
              "    <div class=\"colab-df-container\">\n",
              "      <div>\n",
              "<style scoped>\n",
              "    .dataframe tbody tr th:only-of-type {\n",
              "        vertical-align: middle;\n",
              "    }\n",
              "\n",
              "    .dataframe tbody tr th {\n",
              "        vertical-align: top;\n",
              "    }\n",
              "\n",
              "    .dataframe thead th {\n",
              "        text-align: right;\n",
              "    }\n",
              "</style>\n",
              "<table border=\"1\" class=\"dataframe\">\n",
              "  <thead>\n",
              "    <tr style=\"text-align: right;\">\n",
              "      <th></th>\n",
              "      <th>RI</th>\n",
              "      <th>Na</th>\n",
              "      <th>Mg</th>\n",
              "      <th>Al</th>\n",
              "      <th>Si</th>\n",
              "      <th>K</th>\n",
              "      <th>Ca</th>\n",
              "      <th>Ba</th>\n",
              "      <th>Fe</th>\n",
              "      <th>Type</th>\n",
              "    </tr>\n",
              "  </thead>\n",
              "  <tbody>\n",
              "    <tr>\n",
              "      <th>0</th>\n",
              "      <td>1.52101</td>\n",
              "      <td>13.64</td>\n",
              "      <td>4.49</td>\n",
              "      <td>1.10</td>\n",
              "      <td>71.78</td>\n",
              "      <td>0.06</td>\n",
              "      <td>8.75</td>\n",
              "      <td>0.00</td>\n",
              "      <td>0.0</td>\n",
              "      <td>1</td>\n",
              "    </tr>\n",
              "    <tr>\n",
              "      <th>1</th>\n",
              "      <td>1.51761</td>\n",
              "      <td>13.89</td>\n",
              "      <td>3.60</td>\n",
              "      <td>1.36</td>\n",
              "      <td>72.73</td>\n",
              "      <td>0.48</td>\n",
              "      <td>7.83</td>\n",
              "      <td>0.00</td>\n",
              "      <td>0.0</td>\n",
              "      <td>1</td>\n",
              "    </tr>\n",
              "    <tr>\n",
              "      <th>2</th>\n",
              "      <td>1.51618</td>\n",
              "      <td>13.53</td>\n",
              "      <td>3.55</td>\n",
              "      <td>1.54</td>\n",
              "      <td>72.99</td>\n",
              "      <td>0.39</td>\n",
              "      <td>7.78</td>\n",
              "      <td>0.00</td>\n",
              "      <td>0.0</td>\n",
              "      <td>1</td>\n",
              "    </tr>\n",
              "    <tr>\n",
              "      <th>3</th>\n",
              "      <td>1.51766</td>\n",
              "      <td>13.21</td>\n",
              "      <td>3.69</td>\n",
              "      <td>1.29</td>\n",
              "      <td>72.61</td>\n",
              "      <td>0.57</td>\n",
              "      <td>8.22</td>\n",
              "      <td>0.00</td>\n",
              "      <td>0.0</td>\n",
              "      <td>1</td>\n",
              "    </tr>\n",
              "    <tr>\n",
              "      <th>4</th>\n",
              "      <td>1.51742</td>\n",
              "      <td>13.27</td>\n",
              "      <td>3.62</td>\n",
              "      <td>1.24</td>\n",
              "      <td>73.08</td>\n",
              "      <td>0.55</td>\n",
              "      <td>8.07</td>\n",
              "      <td>0.00</td>\n",
              "      <td>0.0</td>\n",
              "      <td>1</td>\n",
              "    </tr>\n",
              "    <tr>\n",
              "      <th>...</th>\n",
              "      <td>...</td>\n",
              "      <td>...</td>\n",
              "      <td>...</td>\n",
              "      <td>...</td>\n",
              "      <td>...</td>\n",
              "      <td>...</td>\n",
              "      <td>...</td>\n",
              "      <td>...</td>\n",
              "      <td>...</td>\n",
              "      <td>...</td>\n",
              "    </tr>\n",
              "    <tr>\n",
              "      <th>209</th>\n",
              "      <td>1.51623</td>\n",
              "      <td>14.14</td>\n",
              "      <td>0.00</td>\n",
              "      <td>2.88</td>\n",
              "      <td>72.61</td>\n",
              "      <td>0.08</td>\n",
              "      <td>9.18</td>\n",
              "      <td>1.06</td>\n",
              "      <td>0.0</td>\n",
              "      <td>7</td>\n",
              "    </tr>\n",
              "    <tr>\n",
              "      <th>210</th>\n",
              "      <td>1.51685</td>\n",
              "      <td>14.92</td>\n",
              "      <td>0.00</td>\n",
              "      <td>1.99</td>\n",
              "      <td>73.06</td>\n",
              "      <td>0.00</td>\n",
              "      <td>8.40</td>\n",
              "      <td>1.59</td>\n",
              "      <td>0.0</td>\n",
              "      <td>7</td>\n",
              "    </tr>\n",
              "    <tr>\n",
              "      <th>211</th>\n",
              "      <td>1.52065</td>\n",
              "      <td>14.36</td>\n",
              "      <td>0.00</td>\n",
              "      <td>2.02</td>\n",
              "      <td>73.42</td>\n",
              "      <td>0.00</td>\n",
              "      <td>8.44</td>\n",
              "      <td>1.64</td>\n",
              "      <td>0.0</td>\n",
              "      <td>7</td>\n",
              "    </tr>\n",
              "    <tr>\n",
              "      <th>212</th>\n",
              "      <td>1.51651</td>\n",
              "      <td>14.38</td>\n",
              "      <td>0.00</td>\n",
              "      <td>1.94</td>\n",
              "      <td>73.61</td>\n",
              "      <td>0.00</td>\n",
              "      <td>8.48</td>\n",
              "      <td>1.57</td>\n",
              "      <td>0.0</td>\n",
              "      <td>7</td>\n",
              "    </tr>\n",
              "    <tr>\n",
              "      <th>213</th>\n",
              "      <td>1.51711</td>\n",
              "      <td>14.23</td>\n",
              "      <td>0.00</td>\n",
              "      <td>2.08</td>\n",
              "      <td>73.36</td>\n",
              "      <td>0.00</td>\n",
              "      <td>8.62</td>\n",
              "      <td>1.67</td>\n",
              "      <td>0.0</td>\n",
              "      <td>7</td>\n",
              "    </tr>\n",
              "  </tbody>\n",
              "</table>\n",
              "<p>214 rows × 10 columns</p>\n",
              "</div>\n",
              "      <button class=\"colab-df-convert\" onclick=\"convertToInteractive('df-fe68fd20-2366-46b8-9fa9-e360fd76a21b')\"\n",
              "              title=\"Convert this dataframe to an interactive table.\"\n",
              "              style=\"display:none;\">\n",
              "        \n",
              "  <svg xmlns=\"http://www.w3.org/2000/svg\" height=\"24px\"viewBox=\"0 0 24 24\"\n",
              "       width=\"24px\">\n",
              "    <path d=\"M0 0h24v24H0V0z\" fill=\"none\"/>\n",
              "    <path d=\"M18.56 5.44l.94 2.06.94-2.06 2.06-.94-2.06-.94-.94-2.06-.94 2.06-2.06.94zm-11 1L8.5 8.5l.94-2.06 2.06-.94-2.06-.94L8.5 2.5l-.94 2.06-2.06.94zm10 10l.94 2.06.94-2.06 2.06-.94-2.06-.94-.94-2.06-.94 2.06-2.06.94z\"/><path d=\"M17.41 7.96l-1.37-1.37c-.4-.4-.92-.59-1.43-.59-.52 0-1.04.2-1.43.59L10.3 9.45l-7.72 7.72c-.78.78-.78 2.05 0 2.83L4 21.41c.39.39.9.59 1.41.59.51 0 1.02-.2 1.41-.59l7.78-7.78 2.81-2.81c.8-.78.8-2.07 0-2.86zM5.41 20L4 18.59l7.72-7.72 1.47 1.35L5.41 20z\"/>\n",
              "  </svg>\n",
              "      </button>\n",
              "      \n",
              "  <style>\n",
              "    .colab-df-container {\n",
              "      display:flex;\n",
              "      flex-wrap:wrap;\n",
              "      gap: 12px;\n",
              "    }\n",
              "\n",
              "    .colab-df-convert {\n",
              "      background-color: #E8F0FE;\n",
              "      border: none;\n",
              "      border-radius: 50%;\n",
              "      cursor: pointer;\n",
              "      display: none;\n",
              "      fill: #1967D2;\n",
              "      height: 32px;\n",
              "      padding: 0 0 0 0;\n",
              "      width: 32px;\n",
              "    }\n",
              "\n",
              "    .colab-df-convert:hover {\n",
              "      background-color: #E2EBFA;\n",
              "      box-shadow: 0px 1px 2px rgba(60, 64, 67, 0.3), 0px 1px 3px 1px rgba(60, 64, 67, 0.15);\n",
              "      fill: #174EA6;\n",
              "    }\n",
              "\n",
              "    [theme=dark] .colab-df-convert {\n",
              "      background-color: #3B4455;\n",
              "      fill: #D2E3FC;\n",
              "    }\n",
              "\n",
              "    [theme=dark] .colab-df-convert:hover {\n",
              "      background-color: #434B5C;\n",
              "      box-shadow: 0px 1px 3px 1px rgba(0, 0, 0, 0.15);\n",
              "      filter: drop-shadow(0px 1px 2px rgba(0, 0, 0, 0.3));\n",
              "      fill: #FFFFFF;\n",
              "    }\n",
              "  </style>\n",
              "\n",
              "      <script>\n",
              "        const buttonEl =\n",
              "          document.querySelector('#df-fe68fd20-2366-46b8-9fa9-e360fd76a21b button.colab-df-convert');\n",
              "        buttonEl.style.display =\n",
              "          google.colab.kernel.accessAllowed ? 'block' : 'none';\n",
              "\n",
              "        async function convertToInteractive(key) {\n",
              "          const element = document.querySelector('#df-fe68fd20-2366-46b8-9fa9-e360fd76a21b');\n",
              "          const dataTable =\n",
              "            await google.colab.kernel.invokeFunction('convertToInteractive',\n",
              "                                                     [key], {});\n",
              "          if (!dataTable) return;\n",
              "\n",
              "          const docLinkHtml = 'Like what you see? Visit the ' +\n",
              "            '<a target=\"_blank\" href=https://colab.research.google.com/notebooks/data_table.ipynb>data table notebook</a>'\n",
              "            + ' to learn more about interactive tables.';\n",
              "          element.innerHTML = '';\n",
              "          dataTable['output_type'] = 'display_data';\n",
              "          await google.colab.output.renderOutput(dataTable, element);\n",
              "          const docLink = document.createElement('div');\n",
              "          docLink.innerHTML = docLinkHtml;\n",
              "          element.appendChild(docLink);\n",
              "        }\n",
              "      </script>\n",
              "    </div>\n",
              "  </div>\n",
              "  "
            ],
            "text/plain": [
              "          RI     Na    Mg    Al     Si     K    Ca    Ba   Fe  Type\n",
              "0    1.52101  13.64  4.49  1.10  71.78  0.06  8.75  0.00  0.0     1\n",
              "1    1.51761  13.89  3.60  1.36  72.73  0.48  7.83  0.00  0.0     1\n",
              "2    1.51618  13.53  3.55  1.54  72.99  0.39  7.78  0.00  0.0     1\n",
              "3    1.51766  13.21  3.69  1.29  72.61  0.57  8.22  0.00  0.0     1\n",
              "4    1.51742  13.27  3.62  1.24  73.08  0.55  8.07  0.00  0.0     1\n",
              "..       ...    ...   ...   ...    ...   ...   ...   ...  ...   ...\n",
              "209  1.51623  14.14  0.00  2.88  72.61  0.08  9.18  1.06  0.0     7\n",
              "210  1.51685  14.92  0.00  1.99  73.06  0.00  8.40  1.59  0.0     7\n",
              "211  1.52065  14.36  0.00  2.02  73.42  0.00  8.44  1.64  0.0     7\n",
              "212  1.51651  14.38  0.00  1.94  73.61  0.00  8.48  1.57  0.0     7\n",
              "213  1.51711  14.23  0.00  2.08  73.36  0.00  8.62  1.67  0.0     7\n",
              "\n",
              "[214 rows x 10 columns]"
            ]
          },
          "execution_count": 2,
          "metadata": {},
          "output_type": "execute_result"
        }
      ],
      "source": [
        "#df=pd.read_csv(\"glass.csv\")\n",
        "ColumnNames=['Id','RI', 'Na', 'Mg', 'Al', 'Si', 'K', 'Ca', 'Ba', 'Fe', 'Type']\n",
        "df=pd.read_csv('https://archive.ics.uci.edu/ml/machine-learning-databases/glass/glass.data', names=ColumnNames)\n",
        "df.drop([\"Id\"], axis=1, inplace=True)\n",
        "df.to_csv('glass_lr.csv')\n",
        "df.head(214)"
      ]
    },
    {
      "cell_type": "markdown",
      "metadata": {
        "id": "IW1ct_DtnbZW"
      },
      "source": [
        "# LR using matrix"
      ]
    },
    {
      "cell_type": "code",
      "execution_count": 3,
      "metadata": {
        "colab": {
          "base_uri": "https://localhost:8080/"
        },
        "id": "5HTV23bQnbZW",
        "outputId": "d214fac6-cf1d-4818-84f1-19e96a36f696"
      },
      "outputs": [
        {
          "name": "stdout",
          "output_type": "stream",
          "text": [
            "Intercept: \n",
            " [-204.20713346]\n",
            "\n",
            "Slope:\n",
            "[87.0012457]\n",
            "[1.10470472]\n",
            "[-0.32298427]\n",
            "[1.59225253]\n",
            "[0.77683073]\n",
            "[0.41084106]\n",
            "[0.21215116]\n",
            "[0.81989218]\n",
            "[-0.75293837]\n",
            "\n",
            "Predicted Values:\n",
            "[1.13396477 2.53114175 2.46618367 1.6702613  1.9837305  1.69049655\n",
            " 1.90628474 1.7326234  2.48345998 1.81978909 1.75462749 1.58775572\n",
            " 1.76384683 1.63781519 1.66072753 1.7065193  1.40657644 1.67990751\n",
            " 1.92255749 2.19360769 1.60619268 1.44126517 1.4416257  1.76716106\n",
            " 1.85872443 1.73710475 2.02872212 1.76150847 1.71914289 1.85479796\n",
            " 1.48712091 1.64612919 1.5290572  1.80938616 1.61522788 1.70677371\n",
            " 2.20819509 1.73962147 1.26110592 1.26110592 1.49217065 1.60789226\n",
            " 2.0453942  1.17278892 1.25549855 1.90407494 1.76037912 1.61935737\n",
            " 0.96535895 1.95100402 0.86861096 1.82924145 2.39775539 2.27186799\n",
            " 2.32966098 1.98995917 0.85036118 1.73394853 2.01397568 1.77674614\n",
            " 1.9192362  2.38488841 1.06769606 1.37992275 1.3004869  1.80004389\n",
            " 0.93222994 1.00991301 1.08199762 1.25708108 3.03285285 1.38965276\n",
            " 2.12469329 2.3294098  2.13466952 2.08339433 2.06873796 1.90008217\n",
            " 2.27546935 2.30295645 2.54381407 2.23945334 1.94342896 2.00028592\n",
            " 3.67976912 2.10130296 2.26201544 2.17286096 1.89307622 2.23168767\n",
            " 0.88719039 1.83000934 2.16069133 2.25662586 1.99924579 2.00871566\n",
            " 1.08114053 1.18394    2.53681448 2.38078337 2.13384654 2.01321338\n",
            " 1.57921094 1.2671816  2.18929701 3.05539347 3.8730249  2.23257474\n",
            " 4.63816375 4.0912168  2.23047328 1.9903055  2.76801267 1.80893094\n",
            " 1.29436969 1.76930402 1.59952717 2.54377172 1.79912336 2.13239675\n",
            " 1.69087332 1.94744751 2.12370454 2.55560611 1.95718027 1.79884562\n",
            " 1.44919628 2.95562461 3.45974003 3.66566344 3.7960431  4.06436431\n",
            " 1.58141185 1.82388891 1.81691289 1.2263944  1.39999781 2.00233247\n",
            " 2.13092499 2.20968969 2.2621511  1.55925106 1.6980666  2.36980642\n",
            " 1.63242321 1.08645549 1.89794895 1.86423209 1.83912785 0.83703174\n",
            " 2.14821752 1.58326564 1.39453461 1.8403135  1.42570687 1.79052251\n",
            " 1.96959148 1.20925347 2.17136166 2.20160485 2.16549185 1.42712598\n",
            " 1.31177042 5.82813571 3.24270423 2.04424902 2.03656868 4.49196255\n",
            " 4.81284792 4.81793044 4.54969948 5.44229933 5.55724847 3.99576032\n",
            " 3.47038259 4.00916544 3.37948277 2.92513627 3.90751024 3.83662907\n",
            " 4.74566353 5.4465658  5.73593024 4.44580961 6.99754324 3.66233223\n",
            " 4.70885822 2.38255593 4.19800146 5.33398089 4.5553815  7.12448755\n",
            " 7.09641465 7.04640878 6.97210371 6.95783854 6.61280796 7.12831432\n",
            " 7.00159309 7.3486211  7.30848978 4.23478238 7.37709923 7.20814984\n",
            " 7.17015071 6.98131594 6.97260257 7.5954086  6.99862299 7.16815708\n",
            " 7.25243428 7.34131167 6.97453183 7.00142492]\n",
            "\n",
            " (214,)\n"
          ]
        }
      ],
      "source": [
        "x = df.iloc[:,:-1].values\n",
        "y = df.iloc[:,-1]\n",
        "\n",
        "one = np.ones((len(x),1))\n",
        "a2 = np.append(one, x, axis=1)\n",
        "#reshape Y to a column vector\n",
        "b2 = np.array(y).reshape((len(y),1))\n",
        "\n",
        "p_mat = np.array(np.linalg.inv(a2.T.dot(a2)).dot(a2.T).dot(b2))  # Beta calculation\n",
        "print('Intercept: \\n', p_mat[0])\n",
        "print('\\nSlope:')\n",
        "i = 1\n",
        "while i < len(p_mat):\n",
        " print(p_mat[i])\n",
        " i += 1\n",
        "\n",
        "i = 1\n",
        "pred = []\n",
        "for key in x.T:\n",
        " tmp = key * p_mat[i]\n",
        " pred.append(tmp.T)\n",
        " i += 1\n",
        " \n",
        "pred_final =  p_mat[0] + np.sum(pred, axis = 0)\n",
        "print('\\nPredicted Values:')\n",
        "print(pred_final)\n",
        "print('\\n', np.shape(pred_final))"
      ]
    },
    {
      "cell_type": "markdown",
      "metadata": {
        "id": "n8antp7HkLdD"
      },
      "source": [
        "##  Calculating Coefficient of Determination ($R^2$)\n",
        "\n",
        "Coefficient of determination is the portion of the total variation in the dependent variable that is explained by variation in the independent variable.  $R^2$ scores are calculated as below:\n",
        "\n",
        "<div align=\"center\"> $R^2 = \\frac{\\sum(\\hat{Y_i}-\\bar{Y})^2}{\\sum(Y_i-\\bar{Y})^2}$ </div>\n"
      ]
    },
    {
      "cell_type": "code",
      "execution_count": 4,
      "metadata": {
        "colab": {
          "base_uri": "https://localhost:8080/"
        },
        "id": "vfzBRdnpWooD",
        "outputId": "b21575c4-1676-451f-d601-e3c3a3549610"
      },
      "outputs": [
        {
          "name": "stdout",
          "output_type": "stream",
          "text": [
            "R^2: 74.65%\n"
          ]
        }
      ],
      "source": [
        "SSE = sum((y - pred_final.T) ** 2)\n",
        "SST = sum((y - np.mean(y)) ** 2)\n",
        "RSquared = (1 - (SSE / SST)) * 100 \n",
        "print('R^2: %.2f' %RSquared + '%')"
      ]
    },
    {
      "cell_type": "markdown",
      "metadata": {
        "id": "1Jx6vShWKIJO"
      },
      "source": [
        "# Actual vs Predicted"
      ]
    },
    {
      "cell_type": "code",
      "execution_count": 16,
      "metadata": {
        "colab": {
          "base_uri": "https://localhost:8080/",
          "height": 636
        },
        "id": "M-4z7e8gGL-w",
        "outputId": "1eb2e85d-468d-42ff-fb1c-acf042bb6f05"
      },
      "outputs": [
        {
          "data": {
            "image/png": "[encoded data removed]",
            "text/plain": [
              "<Figure size 720x720 with 1 Axes>"
            ]
          },
          "metadata": {
            "needs_background": "light"
          },
          "output_type": "display_data"
        }
      ],
      "source": [
        "import matplotlib.pyplot as plt\n",
        "\n",
        "plt.figure(figsize=(10,10))\n",
        "plt.scatter(y, pred_final, c='blue')\n",
        "\n",
        "p1 = max(max(pred_final), max(y))\n",
        "p2 = min(min(pred_final), min(y))\n",
        "plt.title('Actual Values vs Predicted Values', fontsize=25)\n",
        "plt.plot([p1, p2], [p1, p2], 'red')\n",
        "plt.xlabel('Actual Values', fontsize=15)\n",
        "plt.ylabel('Predicted Values', fontsize=15)\n",
        "plt.axis('equal')\n",
        "plt.show()"
      ]
    }
  ],
  "metadata": {
    "colab": {
      "name": "UCI Dataset LR(Matrix).ipynb",
      "provenance": []
    },
    "kernelspec": {
      "display_name": "Python 3",
      "name": "python3"
    },
    "language_info": {
      "name": "python"
    }
  },
  "nbformat": 4,
  "nbformat_minor": 0
}
