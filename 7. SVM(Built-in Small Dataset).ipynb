{
  "nbformat": 4,
  "nbformat_minor": 0,
  "metadata": {
    "colab": {
      "name": "Untitled10.ipynb",
      "provenance": []
    },
    "kernelspec": {
      "name": "python3",
      "display_name": "Python 3"
    },
    "language_info": {
      "name": "python"
    }
  },
  "cells": [
    {
      "cell_type": "code",
      "execution_count": null,
      "metadata": {
        "id": "uV8VQuzSR0-K"
      },
      "outputs": [],
      "source": [
        "import matplotlib.pyplot as plt\n",
        "import numpy as np\n",
        "from sklearn import svm"
      ]
    },
    {
      "cell_type": "code",
      "source": [
        "# linear data\n",
        "X = np.array([1, 1, 2, 2, 4, 5, 5, 6])\n",
        "Y = np.array([1, -1, 1, -1, 0, 1, -1, 0])"
      ],
      "metadata": {
        "id": "0sgSygGRR16b"
      },
      "execution_count": null,
      "outputs": []
    },
    {
      "cell_type": "code",
      "source": [
        "col =[]\n",
        "for i in range(0, len(X)):\n",
        "    if i < 4:\n",
        "        col.append('blue')  \n",
        "    else:\n",
        "        col.append('magenta') \n",
        "  \n",
        "for i in range(len(X)):\n",
        "    # plotting the corresponding x with y and respective color\n",
        "    plt.scatter(X[i], Y[i], c = col[i], linewidth = 3)\n",
        "plt.axhline(y=0, color='r', linestyle='-')\n",
        "plt.show()"
      ],
      "metadata": {
        "colab": {
          "base_uri": "https://localhost:8080/",
          "height": 265
        },
        "id": "X6WAB5n1wv_1",
        "outputId": "3e410e7d-d38e-4c13-ec13-8dbb1c5d3638"
      },
      "execution_count": null,
      "outputs": [
        {
          "output_type": "display_data",
          "data": {
            "text/plain": [
              "<Figure size 432x288 with 1 Axes>"
            ],
            "image/png": "[encoded data removed]"
          },
          "metadata": {
            "needs_background": "light"
          }
        }
      ]
    },
    {
      "cell_type": "code",
      "source": [
        "# shaping data for training the model\n",
        "training_X = np.vstack((X, Y)).T\n",
        "training_y = [0, 0, 0, 0, 1, 1, 1, 1]"
      ],
      "metadata": {
        "id": "XqUcSZFpR8z6"
      },
      "execution_count": null,
      "outputs": []
    },
    {
      "cell_type": "code",
      "source": [
        "# define the model\n",
        "clf = svm.SVC(kernel='linear', C=1.0)"
      ],
      "metadata": {
        "id": "fZgzg8RQR9fS"
      },
      "execution_count": null,
      "outputs": []
    },
    {
      "cell_type": "code",
      "source": [
        "# train the model\n",
        "clf.fit(training_X, training_y)"
      ],
      "metadata": {
        "colab": {
          "base_uri": "https://localhost:8080/"
        },
        "id": "DheHL_VxSA5z",
        "outputId": "7297d34d-a99e-4e51-a6f4-c9384658f7d9"
      },
      "execution_count": null,
      "outputs": [
        {
          "output_type": "execute_result",
          "data": {
            "text/plain": [
              "SVC(kernel='linear')"
            ]
          },
          "metadata": {},
          "execution_count": 6
        }
      ]
    },
    {
      "cell_type": "code",
      "source": [
        "plt.scatter(training_X[:, 0], training_X[:, 1])\n",
        "plt.scatter(clf.support_vectors_[:, 0], clf.support_vectors_[:, 1], s=100, linewidth=3, marker='*')\n",
        "plt.axhline(y=0, color='r', linestyle='-')\n",
        "w = clf.coef_[0]\n",
        "# get the y-offset for the linear equation\n",
        "a = -w[0] / w[1]\n",
        "# make the x-axis space for the data points\n",
        "XX = np.linspace(0, 6)\n",
        "# get the y-values to plot the decision boundary\n",
        "yy = a * XX - clf.intercept_[0] / w[1]\n",
        "#plt.plot(XX, yy,'k-')\n",
        "plt.show()"
      ],
      "metadata": {
        "colab": {
          "base_uri": "https://localhost:8080/",
          "height": 265
        },
        "id": "cLVShBzLSBmY",
        "outputId": "6ddfa03a-0a0d-489b-e5b7-62f18a50f049"
      },
      "execution_count": null,
      "outputs": [
        {
          "output_type": "display_data",
          "data": {
            "text/plain": [
              "<Figure size 432x288 with 1 Axes>"
            ],
            "image/png": "[encoded data removed]"
          },
          "metadata": {
            "needs_background": "light"
          }
        }
      ]
    },
    {
      "cell_type": "code",
      "source": [
        "print('w = ',clf.coef_)\n",
        "print('b = ',clf.intercept_)\n",
        "print('Indices of support vectors = ', clf.support_)\n",
        "print('Support vectors = ', clf.support_vectors_)\n",
        "print('Number of support vectors for each class = ', clf.n_support_)\n",
        "print('Coefficients of the support vector in the decision function = ', np.abs(clf.dual_coef_))"
      ],
      "metadata": {
        "colab": {
          "base_uri": "https://localhost:8080/"
        },
        "id": "96nFuS-VTtkH",
        "outputId": "450d2310-30f5-4a0d-e8f0-4cc3db90227c"
      },
      "execution_count": null,
      "outputs": [
        {
          "output_type": "stream",
          "name": "stdout",
          "text": [
            "w =  [[ 9.99680000e-01 -1.66533454e-16]]\n",
            "b =  [-2.99914667]\n",
            "Indices of support vectors =  [2 3 4]\n",
            "Support vectors =  [[ 2.  1.]\n",
            " [ 2. -1.]\n",
            " [ 4.  0.]]\n",
            "Number of support vectors for each class =  [2 1]\n",
            "Coefficients of the support vector in the decision function =  [[0.24992 0.24992 0.49984]]\n"
          ]
        }
      ]
    },
    {
      "cell_type": "code",
      "source": [
        "from matplotlib import cm\n",
        "\n",
        "# get the separating hyperplane\n",
        "w = clf.coef_[0]\n",
        "a = -w[0] / w[1]\n",
        "xx = np.linspace(-5, 5)\n",
        "yy = a * xx - (clf.intercept_[0]) / w[1]\n",
        "\n",
        "    # plot the parallels to the separating hyperplane that pass through the\n",
        "    # support vectors (margin away from hyperplane in direction\n",
        "    # perpendicular to hyperplane). This is sqrt(1+a^2) away vertically in\n",
        "    # 2-d.\n",
        "margin = 1 / np.sqrt(np.sum(clf.coef_**2))\n",
        "yy_down = yy - np.sqrt(1 + a**2) * margin\n",
        "yy_up = yy + np.sqrt(1 + a**2) * margin\n",
        "\n",
        "    # plot the line, the points, and the nearest vectors to the plane\n",
        "plt.figure(1, figsize=(4, 3))\n",
        "plt.clf()\n",
        "plt.plot(xx, yy, \"k-\")\n",
        "plt.plot(xx, yy_down, \"k--\")\n",
        "plt.plot(xx, yy_up, \"k--\")\n",
        "\n",
        "plt.scatter(\n",
        "        clf.support_vectors_[:, 0],\n",
        "        clf.support_vectors_[:, 1],\n",
        "        s=80,\n",
        "        facecolors=\"none\",\n",
        "        zorder=10,\n",
        "        edgecolors=\"k\",\n",
        "        cmap=cm.get_cmap(\"RdBu\"),\n",
        ")\n",
        "plt.scatter(\n",
        "        training_X[:, 0], training_X[:, 1], c=Y, zorder=10, cmap=cm.get_cmap(\"RdBu\"), edgecolors=\"k\"\n",
        ")\n",
        "\n",
        "plt.axis(\"tight\")\n",
        "x_min = 0\n",
        "x_max = 8\n",
        "y_min = -2\n",
        "y_max = 2\n",
        "\n",
        "YY, XX = np.meshgrid(yy, xx)\n",
        "xy = np.vstack([XX.ravel(), YY.ravel()]).T\n",
        "Z = clf.decision_function(xy).reshape(XX.shape)\n",
        "\n",
        "    # Put the result into a contour plot\n",
        "plt.contourf(XX, YY, Z, cmap=cm.get_cmap(\"RdBu\"), alpha=0.5, linestyles=[\"-\"])\n",
        "\n",
        "plt.xlim(x_min, x_max)\n",
        "plt.ylim(y_min, y_max)\n",
        "\n",
        "plt.xticks(())\n",
        "plt.yticks(())\n",
        "#fignum = fignum + 1\n",
        "\n",
        "plt.show()"
      ],
      "metadata": {
        "colab": {
          "base_uri": "https://localhost:8080/",
          "height": 197
        },
        "id": "dRm1TDpcDqdc",
        "outputId": "7435c7f7-223e-4c38-8836-869a7166f75a"
      },
      "execution_count": null,
      "outputs": [
        {
          "output_type": "display_data",
          "data": {
            "text/plain": [
              "<Figure size 288x216 with 1 Axes>"
            ],
            "image/png": "[encoded data removed]"
          },
          "metadata": {}
        }
      ]
    }
  ]
}